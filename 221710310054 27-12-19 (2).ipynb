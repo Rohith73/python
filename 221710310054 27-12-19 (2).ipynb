{
 "cells": [
  {
   "cell_type": "code",
   "execution_count": 3,
   "metadata": {},
   "outputs": [
    {
     "name": "stdout",
     "output_type": "stream",
     "text": [
      " 123\n",
      "321\n"
     ]
    }
   ],
   "source": [
    "#input:1947\n",
    "#output : 21\n",
    "n=int(input(\" \"))\n",
    "rev=0\n",
    "while(n!=0):\n",
    "    r=n%10\n",
    "    rev=rev*10+r\n",
    "    n=n//10\n",
    "print(rev)\n"
   ]
  },
  {
   "cell_type": "code",
   "execution_count": 4,
   "metadata": {},
   "outputs": [
    {
     "name": "stdout",
     "output_type": "stream",
     "text": [
      " 6\n",
      "720\n"
     ]
    }
   ],
   "source": [
    "n=int(input(\" \"))\n",
    "i=1\n",
    "f=1\n",
    "while(i<=n):\n",
    "    f=f*i\n",
    "    i=i+1\n",
    "print(f)"
   ]
  },
  {
   "cell_type": "code",
   "execution_count": null,
   "metadata": {},
   "outputs": [],
   "source": []
  }
 ],
 "metadata": {
  "kernelspec": {
   "display_name": "Python 3",
   "language": "python",
   "name": "python3"
  },
  "language_info": {
   "codemirror_mode": {
    "name": "ipython",
    "version": 3
   },
   "file_extension": ".py",
   "mimetype": "text/x-python",
   "name": "python",
   "nbconvert_exporter": "python",
   "pygments_lexer": "ipython3",
   "version": "3.7.3"
  }
 },
 "nbformat": 4,
 "nbformat_minor": 2
}
