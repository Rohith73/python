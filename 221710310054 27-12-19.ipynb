{
 "cells": [
  {
   "cell_type": "markdown",
   "metadata": {},
   "source": [
    "# control structures:\n",
    "# for loop\n",
    "# while loop\n",
    "## for loop:\n",
    "## for var in sequence/object: \n",
    "       statement-s\n",
    "# or\n",
    "### for var in range(start,stop,step):\n",
    "       statements\n",
    "## while loop\n",
    "\n",
    "### while condition:\n",
    "       statements"
   ]
  },
  {
   "cell_type": "code",
   "execution_count": 4,
   "metadata": {},
   "outputs": [
    {
     "name": "stdout",
     "output_type": "stream",
     "text": [
      "enter the range15\n",
      "1 2 3 4 5 6 7 8 9 10 11 12 13 14 15 "
     ]
    }
   ],
   "source": [
    "n=int(input(\"enter the range\"))\n",
    "for i in range(1,n+1):\n",
    "    print(i,end=\" \")"
   ]
  },
  {
   "cell_type": "code",
   "execution_count": 5,
   "metadata": {},
   "outputs": [
    {
     "name": "stdout",
     "output_type": "stream",
     "text": [
      "0 1 2 3 4 5 \n",
      "1 2 3 4 5 \n",
      "1 3 5 7 9 "
     ]
    }
   ],
   "source": [
    "for i in range(6):\n",
    "    print(i,end=\" \")\n",
    "print()\n",
    "for i in range(1,6):\n",
    "    print(i,end=\" \")\n",
    "print()\n",
    "for i in range(1,10,2):\n",
    "    print(i,end=\" \")"
   ]
  },
  {
   "cell_type": "code",
   "execution_count": 8,
   "metadata": {},
   "outputs": [
    {
     "name": "stdout",
     "output_type": "stream",
     "text": [
      " 15\n",
      "120\n"
     ]
    }
   ],
   "source": [
    "n=int(input(\" \"))\n",
    "sum=0\n",
    "for i in range(1,n+1):\n",
    "    sum=sum+i\n",
    "print(sum)"
   ]
  },
  {
   "cell_type": "code",
   "execution_count": 10,
   "metadata": {},
   "outputs": [
    {
     "name": "stdout",
     "output_type": "stream",
     "text": [
      "g i t a m h y d \n",
      "g i t a m h y d "
     ]
    }
   ],
   "source": [
    "str1=\"gitamhyd\"\n",
    "for i in range(len(str1)):\n",
    "    print(str1[i],end=\" \")\n",
    "print()\n",
    "for i in str1:\n",
    "    print(i,end=\" \")"
   ]
  },
  {
   "cell_type": "code",
   "execution_count": 12,
   "metadata": {},
   "outputs": [
    {
     "name": "stdout",
     "output_type": "stream",
     "text": [
      "12 89 90 45 6 \n",
      "12 89 90 45 6 "
     ]
    }
   ],
   "source": [
    "a=[12,89,90,45,6]\n",
    "for i in a:\n",
    "    print(i,end=\" \")\n",
    "print()\n",
    "for i in range(len(a)):\n",
    "    print(a[i],end=\" \")"
   ]
  },
  {
   "cell_type": "code",
   "execution_count": 13,
   "metadata": {},
   "outputs": [
    {
     "name": "stdout",
     "output_type": "stream",
     "text": [
      " 8\n",
      "1 2 3 4 5 6 7 8 "
     ]
    }
   ],
   "source": [
    "n=int(input(\" \"))\n",
    "i=1\n",
    "while(i<=n):\n",
    "    print(i,end=\" \")\n",
    "    i=i+1"
   ]
  },
  {
   "cell_type": "code",
   "execution_count": 25,
   "metadata": {},
   "outputs": [
    {
     "name": "stdout",
     "output_type": "stream",
     "text": [
      " 1999\n",
      "28\n"
     ]
    }
   ],
   "source": [
    "#input:1947\n",
    "#output : 21\n",
    "n=int(input(\" \"))\n",
    "sum=0\n",
    "while(n!=0):\n",
    "    r=n%10\n",
    "    sum=sum+r\n",
    "    n=n//10\n",
    "print(sum)\n"
   ]
  },
  {
   "cell_type": "code",
   "execution_count": 26,
   "metadata": {},
   "outputs": [
    {
     "name": "stdout",
     "output_type": "stream",
     "text": [
      " 14589\n",
      "98541\n"
     ]
    }
   ],
   "source": [
    "#input:1947\n",
    "#output : 21\n",
    "n=int(input(\" \"))\n",
    "rev=0\n",
    "while(n!=0):\n",
    "    r=n%10\n",
    "    rev=rev*10+r\n",
    "    n=n//10\n",
    "print(rev)\n"
   ]
  },
  {
   "cell_type": "code",
   "execution_count": 10,
   "metadata": {},
   "outputs": [
    {
     "name": "stdout",
     "output_type": "stream",
     "text": [
      " 121\n",
      "palindrome\n",
      "palindrome\n",
      "palindrome\n",
      "palindrome\n",
      "palindrome\n"
     ]
    }
   ],
   "source": [
    "#input:121\n",
    "#output : \n",
    "n=int(input(\" \"))\n",
    "num=n\n",
    "rev=0\n",
    "while(n!=0):\n",
    "    r=n%10\n",
    "    rev=rev*10+r\n",
    "    n=n//10\n",
    "if(rev==num):\n",
    "    print(\"palindrome\")\n",
    "else:\n",
    "    print(\"not a palindrome\")\n",
    "\n"
   ]
  },
  {
   "cell_type": "code",
   "execution_count": 2,
   "metadata": {},
   "outputs": [
    {
     "name": "stdout",
     "output_type": "stream",
     "text": [
      " 1947\n",
      "9\n",
      "9\n",
      "9\n",
      "9\n",
      "9\n"
     ]
    }
   ],
   "source": [
    "#input:1947\n",
    "#output :9\n",
    "n=int(input(\" \"))\n",
    "max=0\n",
    "while(n!=0):\n",
    "    r=n%10\n",
    "    if(r>max):\n",
    "        max=r\n",
    "    n=n//10\n",
    "print(max)"
   ]
  },
  {
   "cell_type": "code",
   "execution_count": 7,
   "metadata": {},
   "outputs": [
    {
     "name": "stdout",
     "output_type": "stream",
     "text": [
      " 29471\n",
      "1\n",
      "1\n",
      "1\n",
      "1\n",
      "1\n"
     ]
    }
   ],
   "source": [
    "#input:29471\n",
    "#output:1\n",
    "n=int(input(\" \"))\n",
    "min=9\n",
    "while(n!=0):\n",
    "    r=n%10\n",
    "    if(r<min):\n",
    "        min=r\n",
    "    n=n//10\n",
    "print(min)\n"
   ]
  },
  {
   "cell_type": "code",
   "execution_count": 8,
   "metadata": {},
   "outputs": [
    {
     "name": "stdout",
     "output_type": "stream",
     "text": [
      " 5\n",
      "120\n",
      "120\n",
      "120\n",
      "120\n",
      "120\n"
     ]
    }
   ],
   "source": [
    "n=int(input(\" \"))\n",
    "f=1\n",
    "for i in range(1,n+1):\n",
    "    f=f*i\n",
    "print(f)"
   ]
  },
  {
   "cell_type": "code",
   "execution_count": 11,
   "metadata": {},
   "outputs": [
    {
     "name": "stdout",
     "output_type": "stream",
     "text": [
      " 3\n",
      "6\n",
      "6\n",
      "6\n",
      "6\n",
      "6\n"
     ]
    }
   ],
   "source": [
    "n=int(input(\" \"))\n",
    "i=1\n",
    "f=1\n",
    "while(i<=n):\n",
    "    f=f*i\n",
    "    i=i+1\n",
    "print(f)"
   ]
  },
  {
   "cell_type": "code",
   "execution_count": null,
   "metadata": {},
   "outputs": [],
   "source": []
  }
 ],
 "metadata": {
  "kernelspec": {
   "display_name": "Python 3",
   "language": "python",
   "name": "python3"
  },
  "language_info": {
   "codemirror_mode": {
    "name": "ipython",
    "version": 3
   },
   "file_extension": ".py",
   "mimetype": "text/x-python",
   "name": "python",
   "nbconvert_exporter": "python",
   "pygments_lexer": "ipython3",
   "version": "3.7.3"
  }
 },
 "nbformat": 4,
 "nbformat_minor": 2
}
